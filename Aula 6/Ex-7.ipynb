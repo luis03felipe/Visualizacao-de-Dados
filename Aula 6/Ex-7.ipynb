{
 "cells": [
  {
   "cell_type": "code",
   "execution_count": null,
   "metadata": {},
   "outputs": [],
   "source": [
    "#Manipulação de Listas\n",
    "# a) Crie uma lista chamada \"frutas\" com cinco diferentes frutas.\n",
    "# b) Ordene a lista em ordem alfabética inversa.\n",
    "# c) Remova o segundo elemento da lista.\n",
    "# d) Adicione \"uva\" no final da lista e \"banana\" no início.\n",
    "# e) Verifique se \"morango\" está na lista e imprima uma mensagem apropriada."
   ]
  },
  {
   "cell_type": "code",
   "execution_count": 9,
   "metadata": {},
   "outputs": [],
   "source": [
    "frutas = [\"Maça\", \"Morango\", \"Pera\", \"Abacaxi\", \"Kiwi\"]"
   ]
  },
  {
   "cell_type": "code",
   "execution_count": 10,
   "metadata": {},
   "outputs": [
    {
     "name": "stdout",
     "output_type": "stream",
     "text": [
      "['Maça', 'Morango', 'Pera', 'Abacaxi', 'Kiwi']\n"
     ]
    }
   ],
   "source": [
    "print(frutas)"
   ]
  },
  {
   "cell_type": "code",
   "execution_count": 11,
   "metadata": {},
   "outputs": [],
   "source": [
    "frutas.sort(reverse=True)"
   ]
  },
  {
   "cell_type": "code",
   "execution_count": 12,
   "metadata": {},
   "outputs": [
    {
     "name": "stdout",
     "output_type": "stream",
     "text": [
      "['Pera', 'Morango', 'Maça', 'Kiwi', 'Abacaxi']\n"
     ]
    }
   ],
   "source": [
    "print(frutas)"
   ]
  },
  {
   "cell_type": "code",
   "execution_count": 13,
   "metadata": {},
   "outputs": [
    {
     "name": "stdout",
     "output_type": "stream",
     "text": [
      "['Pera', 'Morango', 'Maça', 'Kiwi', 'Abacaxi', 'Uva']\n"
     ]
    }
   ],
   "source": [
    "frutas.append(\"Uva\")\n",
    "print(frutas)"
   ]
  },
  {
   "cell_type": "code",
   "execution_count": 14,
   "metadata": {},
   "outputs": [
    {
     "name": "stdout",
     "output_type": "stream",
     "text": [
      "['Banana', 'Pera', 'Morango', 'Maça', 'Kiwi', 'Abacaxi', 'Uva']\n"
     ]
    }
   ],
   "source": [
    "frutas.insert(0, \"Banana\")\n",
    "print(frutas)"
   ]
  },
  {
   "cell_type": "code",
   "execution_count": 15,
   "metadata": {},
   "outputs": [
    {
     "name": "stdout",
     "output_type": "stream",
     "text": [
      "Morango está na lista de frutas.\n"
     ]
    }
   ],
   "source": [
    "if \"Morango\" in frutas:\n",
    "    print(\"Morango está na lista de frutas.\")\n",
    "else:\n",
    "    print(\"Morango não está na lista de frutas.\")"
   ]
  },
  {
   "cell_type": "code",
   "execution_count": 16,
   "metadata": {},
   "outputs": [
    {
     "name": "stdout",
     "output_type": "stream",
     "text": [
      "['Banana', 'Pera', 'Morango', 'Maça', 'Kiwi', 'Abacaxi', 'Uva']\n"
     ]
    }
   ],
   "source": [
    "print(frutas)"
   ]
  }
 ],
 "metadata": {
  "kernelspec": {
   "display_name": "Python 3",
   "language": "python",
   "name": "python3"
  },
  "language_info": {
   "codemirror_mode": {
    "name": "ipython",
    "version": 3
   },
   "file_extension": ".py",
   "mimetype": "text/x-python",
   "name": "python",
   "nbconvert_exporter": "python",
   "pygments_lexer": "ipython3",
   "version": "3.11.9"
  }
 },
 "nbformat": 4,
 "nbformat_minor": 2
}
