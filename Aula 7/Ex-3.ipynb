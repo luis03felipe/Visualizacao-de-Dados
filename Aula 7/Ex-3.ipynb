{
 "cells": [
  {
   "cell_type": "code",
   "execution_count": null,
   "metadata": {},
   "outputs": [],
   "source": [
    "# 3 Exercício: Contagem de Palavras\n",
    "#   a) Crie uma string contendo um parágrafo de texto.\n",
    "#   b) Converta o parágrafo em uma lista de palavras.\n",
    "#   c) Crie um dicionário chamado \"contagem_palavras\" para armazenar a contagem de cada\n",
    "#      palavra no parágrafo.\n",
    "#   d) Preencha o dicionário contando a ocorrência de cada palavra\n",
    "#   e) Imprima as palavras e suas contagens em ordem alfabética."
   ]
  },
  {
   "cell_type": "code",
   "execution_count": 3,
   "metadata": {},
   "outputs": [],
   "source": [
    "paragrafo = \"O parágrafo é um elemento textual com unidade de sentido que serve para dividir e organizar o texto.\""
   ]
  },
  {
   "cell_type": "code",
   "execution_count": 5,
   "metadata": {},
   "outputs": [
    {
     "name": "stdout",
     "output_type": "stream",
     "text": [
      "['O', 'parágrafo', 'é', 'um', 'elemento', 'textual', 'com', 'unidade', 'de', 'sentido', 'que', 'serve', 'para', 'dividir', 'e', 'organizar', 'o', 'texto.']\n"
     ]
    }
   ],
   "source": [
    "palavras = paragrafo.split()\n",
    "print(palavras)"
   ]
  },
  {
   "cell_type": "code",
   "execution_count": 6,
   "metadata": {},
   "outputs": [],
   "source": [
    "contagem_palavras = {}"
   ]
  },
  {
   "cell_type": "code",
   "execution_count": 7,
   "metadata": {},
   "outputs": [],
   "source": [
    "for palavra in palavras:\n",
    "    if palavra in contagem_palavras:\n",
    "        contagem_palavras[palavra] += 1\n",
    "    else:\n",
    "        contagem_palavras[palavra] = 1"
   ]
  },
  {
   "cell_type": "code",
   "execution_count": 8,
   "metadata": {},
   "outputs": [
    {
     "name": "stdout",
     "output_type": "stream",
     "text": [
      "{'O': 1, 'parágrafo': 1, 'é': 1, 'um': 1, 'elemento': 1, 'textual': 1, 'com': 1, 'unidade': 1, 'de': 1, 'sentido': 1, 'que': 1, 'serve': 1, 'para': 1, 'dividir': 1, 'e': 1, 'organizar': 1, 'o': 1, 'texto.': 1}\n"
     ]
    }
   ],
   "source": [
    "print(contagem_palavras)"
   ]
  },
  {
   "cell_type": "code",
   "execution_count": 9,
   "metadata": {},
   "outputs": [
    {
     "name": "stdout",
     "output_type": "stream",
     "text": [
      "{'O: 1'}\n",
      "{'com: 1'}\n",
      "{'de: 1'}\n",
      "{'dividir: 1'}\n",
      "{'e: 1'}\n",
      "{'elemento: 1'}\n",
      "{'o: 1'}\n",
      "{'organizar: 1'}\n",
      "{'para: 1'}\n",
      "{'parágrafo: 1'}\n",
      "{'que: 1'}\n",
      "{'sentido: 1'}\n",
      "{'serve: 1'}\n",
      "{'texto.: 1'}\n",
      "{'textual: 1'}\n",
      "{'um: 1'}\n",
      "{'unidade: 1'}\n",
      "{'é: 1'}\n"
     ]
    }
   ],
   "source": [
    "for palavra, contagem in sorted(contagem_palavras.items()):\n",
    "    print({f\"{palavra}: {contagem}\"})"
   ]
  }
 ],
 "metadata": {
  "kernelspec": {
   "display_name": "Python 3",
   "language": "python",
   "name": "python3"
  },
  "language_info": {
   "codemirror_mode": {
    "name": "ipython",
    "version": 3
   },
   "file_extension": ".py",
   "mimetype": "text/x-python",
   "name": "python",
   "nbconvert_exporter": "python",
   "pygments_lexer": "ipython3",
   "version": "3.11.9"
  }
 },
 "nbformat": 4,
 "nbformat_minor": 2
}
