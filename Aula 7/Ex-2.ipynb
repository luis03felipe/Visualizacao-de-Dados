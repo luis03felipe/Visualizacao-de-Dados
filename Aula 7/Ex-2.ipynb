{
 "cells": [
  {
   "cell_type": "code",
   "execution_count": null,
   "metadata": {},
   "outputs": [],
   "source": [
    "# 2 Exercício: Dicionário de Notas\n",
    "#   a) Crie um dicionário chamado \"notas\" que mapeie nomes de alunos para suas respectivas\n",
    "#      notas.\n",
    "#   b) Adicione pelo menos 3 entradas ao dicionário.\n",
    "#   c) Acesse a nota de um aluno específico e imprima.\n",
    "#   d) Remova um aluno do dicionário.\n",
    "#   e) Imprima todos os nomes de alunos e suas notas em linhas separadas."
   ]
  },
  {
   "cell_type": "code",
   "execution_count": 1,
   "metadata": {},
   "outputs": [],
   "source": [
    "notas = {\"Luis Felipe\":\"10\", \"Kaiki\":\"8\", \"Pollyanna\":\"9\"}"
   ]
  },
  {
   "cell_type": "code",
   "execution_count": 2,
   "metadata": {},
   "outputs": [
    {
     "name": "stdout",
     "output_type": "stream",
     "text": [
      "{'8'}\n"
     ]
    }
   ],
   "source": [
    "aluno = \"Kaiki\"\n",
    "print({notas[aluno]})"
   ]
  },
  {
   "cell_type": "code",
   "execution_count": 4,
   "metadata": {},
   "outputs": [
    {
     "name": "stdout",
     "output_type": "stream",
     "text": [
      "O aluno(a) Pollyanna foi removido do dicionário\n"
     ]
    }
   ],
   "source": [
    "aluno_removido = \"Pollyanna\"\n",
    "if aluno_removido in notas:\n",
    "    del notas[aluno_removido]\n",
    "    print(\"O aluno(a)\",aluno_removido, \"foi removido do dicionário\")"
   ]
  },
  {
   "cell_type": "code",
   "execution_count": 5,
   "metadata": {},
   "outputs": [
    {
     "name": "stdout",
     "output_type": "stream",
     "text": [
      "{'Luis Felipe'} {'10'}\n",
      "{'Kaiki'} {'8'}\n"
     ]
    }
   ],
   "source": [
    "for aluno, nota in notas.items():\n",
    "    print({aluno}, {nota})"
   ]
  }
 ],
 "metadata": {
  "kernelspec": {
   "display_name": "Python 3",
   "language": "python",
   "name": "python3"
  },
  "language_info": {
   "codemirror_mode": {
    "name": "ipython",
    "version": 3
   },
   "file_extension": ".py",
   "mimetype": "text/x-python",
   "name": "python",
   "nbconvert_exporter": "python",
   "pygments_lexer": "ipython3",
   "version": "3.11.9"
  }
 },
 "nbformat": 4,
 "nbformat_minor": 2
}
