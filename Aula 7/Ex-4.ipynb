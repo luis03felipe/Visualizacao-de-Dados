{
 "cells": [
  {
   "cell_type": "code",
   "execution_count": null,
   "metadata": {},
   "outputs": [],
   "source": [
    "# 4 Exercício: Conjunto de Letras Únicas\n",
    "#   a) Crie uma string contendo uma frase\n",
    "#   b) Crie um conjunto chamado \"letras\" para armazenar todas as letras únicas na frase.\n",
    "#   c) Converta a string em letras minúsculas para evitar diferenciação entre maiúsculas e\n",
    "#      minúsculas.\n",
    "#   d) Imprima as letras únicas em ordem alfabética. "
   ]
  },
  {
   "cell_type": "code",
   "execution_count": 1,
   "metadata": {},
   "outputs": [],
   "source": [
    "frase = \"Corre atrás porque é isso que um vencedor faz - Big Z\""
   ]
  },
  {
   "cell_type": "code",
   "execution_count": 2,
   "metadata": {},
   "outputs": [],
   "source": [
    "letras = set()"
   ]
  },
  {
   "cell_type": "code",
   "execution_count": null,
   "metadata": {},
   "outputs": [],
   "source": [
    "for letra in frase.lower():\n",
    "    if letra.isalpha(): #isalpha verifica se uma letra é do alfabeto\n",
    "        letras.add(letra)\n",
    "        print(letras)"
   ]
  },
  {
   "cell_type": "code",
   "execution_count": 5,
   "metadata": {},
   "outputs": [
    {
     "name": "stdout",
     "output_type": "stream",
     "text": [
      "Letras unicas em ordem alfabética: \n",
      "a b c d e f g i m n o p q r s t u v z á é "
     ]
    }
   ],
   "source": [
    "print(\"Letras unicas em ordem alfabética: \")\n",
    "for letra in sorted(letras):\n",
    "    print(letra)"
   ]
  }
 ],
 "metadata": {
  "kernelspec": {
   "display_name": "Python 3",
   "language": "python",
   "name": "python3"
  },
  "language_info": {
   "codemirror_mode": {
    "name": "ipython",
    "version": 3
   },
   "file_extension": ".py",
   "mimetype": "text/x-python",
   "name": "python",
   "nbconvert_exporter": "python",
   "pygments_lexer": "ipython3",
   "version": "3.11.9"
  }
 },
 "nbformat": 4,
 "nbformat_minor": 2
}
