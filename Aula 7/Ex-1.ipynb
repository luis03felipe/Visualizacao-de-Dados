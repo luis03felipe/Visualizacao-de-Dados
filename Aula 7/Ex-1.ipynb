{
 "cells": [
  {
   "cell_type": "code",
   "execution_count": 1,
   "metadata": {},
   "outputs": [],
   "source": [
    "# 1 Exercício: Manipulando Conjuntos\n",
    "#   a) Crie dois conjuntos, \"conjunto1\" e \"conjunto2\", com alguns elementos em comum.\n",
    "#   b) Calcule a união dos dois conjuntos e armazene o resultado em um novo conjunto \n",
    "#      chamado \"uniao\".\n",
    "#   c) Calcule a interseção dos dois conjuntos e armazene o resultado em um novo \n",
    "#      conjunto chamado \"intersecao\".\n",
    "#   d) Verifique se \"elemento\" está presenete em \"conjunto1\" e imprima uma mensagem \n",
    "#      apropriada. "
   ]
  },
  {
   "cell_type": "code",
   "execution_count": 2,
   "metadata": {},
   "outputs": [],
   "source": [
    "conjunto1 = {1, 2, 3, 4, 5}\n",
    "conjunto2 = {6, 7, 3, 4, 8}"
   ]
  },
  {
   "cell_type": "code",
   "execution_count": 3,
   "metadata": {},
   "outputs": [
    {
     "name": "stdout",
     "output_type": "stream",
     "text": [
      "[{1, 2, 3, 4, 5}, {3, 4, 6, 7, 8}]\n"
     ]
    }
   ],
   "source": [
    "uniao = [conjunto1] + [conjunto2]\n",
    "print(uniao)"
   ]
  },
  {
   "cell_type": "code",
   "execution_count": 4,
   "metadata": {},
   "outputs": [
    {
     "name": "stdout",
     "output_type": "stream",
     "text": [
      "{3, 4}\n"
     ]
    }
   ],
   "source": [
    "intersecao = conjunto1.intersection(conjunto2)\n",
    "print(intersecao)\n"
   ]
  },
  {
   "cell_type": "code",
   "execution_count": 5,
   "metadata": {},
   "outputs": [
    {
     "name": "stdout",
     "output_type": "stream",
     "text": [
      "O elemento 3 está presente no conjunto\n"
     ]
    }
   ],
   "source": [
    "elemento = 3\n",
    "if elemento in conjunto1:\n",
    "    print(\"O elemento\", elemento, \"está presente no conjunto\")\n",
    "else:\n",
    "    print(\"O elemento não está presente no conjunto\")"
   ]
  }
 ],
 "metadata": {
  "kernelspec": {
   "display_name": "Python 3",
   "language": "python",
   "name": "python3"
  },
  "language_info": {
   "codemirror_mode": {
    "name": "ipython",
    "version": 3
   },
   "file_extension": ".py",
   "mimetype": "text/x-python",
   "name": "python",
   "nbconvert_exporter": "python",
   "pygments_lexer": "ipython3",
   "version": "3.11.9"
  }
 },
 "nbformat": 4,
 "nbformat_minor": 2
}
