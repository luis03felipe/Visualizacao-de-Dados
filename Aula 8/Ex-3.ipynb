{
 "cells": [
  {
   "cell_type": "code",
   "execution_count": 1,
   "metadata": {},
   "outputs": [],
   "source": [
    "# 3 - Filtragem de dados:\n",
    "#   a) Crie um DataFram com dados fictícios de vendas, contendo colunas como 'Produto', \n",
    "#      'Quantidade', 'Preço' e 'Data';\n",
    "#   b) Em seguida, crie um novo DataFrame que contenha apenas as vendas realizadas em uma\n",
    "#      data específica, por exemplo, '2023-09-01'."
   ]
  },
  {
   "cell_type": "code",
   "execution_count": 7,
   "metadata": {},
   "outputs": [],
   "source": [
    "import pandas as pd\n",
    "import numpy as np"
   ]
  },
  {
   "cell_type": "code",
   "execution_count": 3,
   "metadata": {},
   "outputs": [],
   "source": [
    "data = {'Produto': ['Produto A', 'Produto B', 'Produto C', 'Produto D',],\n",
    "        'Quantidade': [100, 200, 300, 400],\n",
    "        'Preço': [10.99, 15.99, 8.99, 12.50],\n",
    "        'Data': ['2023-09-01', '2023-09-02', '2023-09-01', '2023-09-03']}"
   ]
  },
  {
   "cell_type": "code",
   "execution_count": 8,
   "metadata": {},
   "outputs": [],
   "source": [
    "df_vendas = pd.DataFrame(data) "
   ]
  },
  {
   "cell_type": "code",
   "execution_count": 9,
   "metadata": {},
   "outputs": [
    {
     "name": "stdout",
     "output_type": "stream",
     "text": [
      "     Produto  Quantidade  Preço        Data\n",
      "0  Produto A         100  10.99  2023-09-01\n",
      "1  Produto B         200  15.99  2023-09-02\n",
      "2  Produto C         300   8.99  2023-09-01\n",
      "3  Produto D         400  12.50  2023-09-03\n"
     ]
    }
   ],
   "source": [
    "print(df_vendas)"
   ]
  },
  {
   "cell_type": "code",
   "execution_count": 10,
   "metadata": {},
   "outputs": [],
   "source": [
    "df_vendas['Data'] = pd.to_datetime(df_vendas['Data'])"
   ]
  },
  {
   "cell_type": "code",
   "execution_count": 11,
   "metadata": {},
   "outputs": [],
   "source": [
    "data_especifica = '2023-09-01'\n",
    "df_vendas_data_especifica = df_vendas[df_vendas['Data'] == data_especifica]"
   ]
  },
  {
   "cell_type": "code",
   "execution_count": 12,
   "metadata": {},
   "outputs": [
    {
     "name": "stdout",
     "output_type": "stream",
     "text": [
      "     Produto  Quantidade  Preço       Data\n",
      "0  Produto A         100  10.99 2023-09-01\n",
      "2  Produto C         300   8.99 2023-09-01\n"
     ]
    }
   ],
   "source": [
    "print(df_vendas_data_especifica)"
   ]
  }
 ],
 "metadata": {
  "kernelspec": {
   "display_name": "Python 3",
   "language": "python",
   "name": "python3"
  },
  "language_info": {
   "codemirror_mode": {
    "name": "ipython",
    "version": 3
   },
   "file_extension": ".py",
   "mimetype": "text/x-python",
   "name": "python",
   "nbconvert_exporter": "python",
   "pygments_lexer": "ipython3",
   "version": "3.11.9"
  }
 },
 "nbformat": 4,
 "nbformat_minor": 2
}
