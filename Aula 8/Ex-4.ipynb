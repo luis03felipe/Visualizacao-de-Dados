{
 "cells": [
  {
   "cell_type": "code",
   "execution_count": null,
   "metadata": {},
   "outputs": [],
   "source": [
    "# 4 - Agregação de Dados\n",
    "#   a) Dado um DataFrame com informações de alunos, incluindo colunas como 'Nome', 'Idade' e\n",
    "#      'Nota';\n",
    "#   b) Calcule a média das notas dos alunos e crie um novo DataFrame que mostre a média das \n",
    "#      notas para diferentes faixas etárias(por exemplo, 10-15 anos, 16-20 anos, etc.)."
   ]
  },
  {
   "cell_type": "code",
   "execution_count": 1,
   "metadata": {},
   "outputs": [],
   "source": [
    "import pandas as pd\n",
    "import numpy as np"
   ]
  },
  {
   "cell_type": "code",
   "execution_count": 28,
   "metadata": {},
   "outputs": [],
   "source": [
    "alunos = {'Nome': ['Luís', 'Kaiki', 'Pollyanna', 'Letícia', 'Pedro'],\n",
    "          'Idade': [14, 15, 21, 19, 18],\n",
    "          'Nota': [7.5, 2, 9.0, 6.5, 8.5]}"
   ]
  },
  {
   "cell_type": "code",
   "execution_count": 29,
   "metadata": {},
   "outputs": [],
   "source": [
    "df_alunos = pd.DataFrame(alunos)"
   ]
  },
  {
   "cell_type": "code",
   "execution_count": 30,
   "metadata": {},
   "outputs": [
    {
     "name": "stdout",
     "output_type": "stream",
     "text": [
      "        Nome  Idade  Nota\n",
      "0       Luís     14   7.5\n",
      "1      Kaiki     15   2.0\n",
      "2  Pollyanna     21   9.0\n",
      "3    Letícia     19   6.5\n",
      "4      Pedro     18   8.5\n"
     ]
    }
   ],
   "source": [
    "print(df_alunos)"
   ]
  },
  {
   "cell_type": "code",
   "execution_count": 31,
   "metadata": {},
   "outputs": [
    {
     "name": "stdout",
     "output_type": "stream",
     "text": [
      "6.7\n"
     ]
    }
   ],
   "source": [
    "media = df_alunos['Nota'].mean()\n",
    "print(media)"
   ]
  },
  {
   "cell_type": "code",
   "execution_count": 32,
   "metadata": {},
   "outputs": [],
   "source": [
    "faixa_etaria = [(10, 16), (17, 21)]"
   ]
  },
  {
   "cell_type": "code",
   "execution_count": 33,
   "metadata": {},
   "outputs": [],
   "source": [
    "def calc_faixa_etaria(idade):\n",
    "    for faixa in faixa_etaria:\n",
    "        if faixa[0] <= idade <= faixa[1]:\n",
    "            return(faixa[0], faixa[1])\n"
   ]
  },
  {
   "cell_type": "code",
   "execution_count": 34,
   "metadata": {},
   "outputs": [],
   "source": [
    "df_alunos['Faixa etaria'] = df_alunos['Idade'].apply(calc_faixa_etaria)"
   ]
  },
  {
   "cell_type": "code",
   "execution_count": 35,
   "metadata": {},
   "outputs": [
    {
     "name": "stdout",
     "output_type": "stream",
     "text": [
      "        Nome  Idade  Nota Faixa etaria\n",
      "0       Luís     14   7.5     (10, 16)\n",
      "1      Kaiki     15   2.0     (10, 16)\n",
      "2  Pollyanna     21   9.0     (17, 21)\n",
      "3    Letícia     19   6.5     (17, 21)\n",
      "4      Pedro     18   8.5     (17, 21)\n"
     ]
    }
   ],
   "source": [
    "print(df_alunos)"
   ]
  },
  {
   "cell_type": "code",
   "execution_count": 36,
   "metadata": {},
   "outputs": [
    {
     "name": "stdout",
     "output_type": "stream",
     "text": [
      "  Faixa etaria  Nota\n",
      "0     (10, 16)  4.75\n",
      "1     (17, 21)  8.00\n"
     ]
    }
   ],
   "source": [
    "media = df_alunos.groupby('Faixa etaria')['Nota'].mean().reset_index()\n",
    "print(media)"
   ]
  }
 ],
 "metadata": {
  "kernelspec": {
   "display_name": "Python 3",
   "language": "python",
   "name": "python3"
  },
  "language_info": {
   "codemirror_mode": {
    "name": "ipython",
    "version": 3
   },
   "file_extension": ".py",
   "mimetype": "text/x-python",
   "name": "python",
   "nbconvert_exporter": "python",
   "pygments_lexer": "ipython3",
   "version": "3.11.9"
  }
 },
 "nbformat": 4,
 "nbformat_minor": 2
}
