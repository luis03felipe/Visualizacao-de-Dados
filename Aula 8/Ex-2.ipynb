{
 "cells": [
  {
   "cell_type": "code",
   "execution_count": null,
   "metadata": {},
   "outputs": [],
   "source": [
    "# 2 - Crie o seguinte Dataframe: (IMAGEM)\n",
    "#   a) Realize novas inserções;\n",
    "#   b) Apresente o resultado;\n",
    "#   c) Delete o id cinco;\n",
    "#   d) Acrescente uma nova coluna denominada dívida;\n",
    "#   e) Preencha a nova coluna;\n",
    "#   f) Realize buscas e filtros na tabela"
   ]
  },
  {
   "cell_type": "code",
   "execution_count": 2,
   "metadata": {},
   "outputs": [],
   "source": [
    "import numpy as np\n",
    "import pandas as pd"
   ]
  },
  {
   "cell_type": "code",
   "execution_count": 3,
   "metadata": {},
   "outputs": [],
   "source": [
    "data = {\n",
    "    'ano': [2014, 2011, 2012, 2011, 2012, 2013],\n",
    "    'estado': ['PR', 'SC', 'RS', 'RJ', 'MG', 'SP'],\n",
    "    'desempenho': [1.5, 10.0, 3.6, 2.4, 2.9, 3.2]\n",
    "}"
   ]
  },
  {
   "cell_type": "code",
   "execution_count": 4,
   "metadata": {},
   "outputs": [],
   "source": [
    "data = pd.DataFrame(data, \n",
    "                    columns=['ano', 'estado', 'desempenho'], \n",
    "                    index= ['um', 'dois', 'três', 'quatro', 'cinco', 'seis'])"
   ]
  },
  {
   "cell_type": "code",
   "execution_count": 7,
   "metadata": {},
   "outputs": [
    {
     "name": "stdout",
     "output_type": "stream",
     "text": [
      "         ano estado  desempenho\n",
      "um      2014     PR         1.5\n",
      "dois    2011     SC        10.0\n",
      "três    2012     RS         3.6\n",
      "quatro  2011     RJ         2.4\n",
      "cinco   2012     MG         2.9\n",
      "seis    2013     SP         3.2\n"
     ]
    }
   ],
   "source": [
    "print(data)"
   ]
  },
  {
   "cell_type": "code",
   "execution_count": 5,
   "metadata": {},
   "outputs": [
    {
     "data": {
      "text/html": [
       "<div>\n",
       "<style scoped>\n",
       "    .dataframe tbody tr th:only-of-type {\n",
       "        vertical-align: middle;\n",
       "    }\n",
       "\n",
       "    .dataframe tbody tr th {\n",
       "        vertical-align: top;\n",
       "    }\n",
       "\n",
       "    .dataframe thead th {\n",
       "        text-align: right;\n",
       "    }\n",
       "</style>\n",
       "<table border=\"1\" class=\"dataframe\">\n",
       "  <thead>\n",
       "    <tr style=\"text-align: right;\">\n",
       "      <th></th>\n",
       "      <th>ano</th>\n",
       "      <th>estado</th>\n",
       "      <th>desempenho</th>\n",
       "    </tr>\n",
       "  </thead>\n",
       "  <tbody>\n",
       "    <tr>\n",
       "      <th>um</th>\n",
       "      <td>2014</td>\n",
       "      <td>PR</td>\n",
       "      <td>1.5</td>\n",
       "    </tr>\n",
       "    <tr>\n",
       "      <th>dois</th>\n",
       "      <td>2011</td>\n",
       "      <td>SC</td>\n",
       "      <td>10.0</td>\n",
       "    </tr>\n",
       "    <tr>\n",
       "      <th>três</th>\n",
       "      <td>2012</td>\n",
       "      <td>RS</td>\n",
       "      <td>3.6</td>\n",
       "    </tr>\n",
       "    <tr>\n",
       "      <th>quatro</th>\n",
       "      <td>2011</td>\n",
       "      <td>RJ</td>\n",
       "      <td>2.4</td>\n",
       "    </tr>\n",
       "    <tr>\n",
       "      <th>cinco</th>\n",
       "      <td>2012</td>\n",
       "      <td>MG</td>\n",
       "      <td>2.9</td>\n",
       "    </tr>\n",
       "    <tr>\n",
       "      <th>seis</th>\n",
       "      <td>2013</td>\n",
       "      <td>SP</td>\n",
       "      <td>3.2</td>\n",
       "    </tr>\n",
       "  </tbody>\n",
       "</table>\n",
       "</div>"
      ],
      "text/plain": [
       "         ano estado  desempenho\n",
       "um      2014     PR         1.5\n",
       "dois    2011     SC        10.0\n",
       "três    2012     RS         3.6\n",
       "quatro  2011     RJ         2.4\n",
       "cinco   2012     MG         2.9\n",
       "seis    2013     SP         3.2"
      ]
     },
     "execution_count": 5,
     "metadata": {},
     "output_type": "execute_result"
    }
   ],
   "source": [
    "data"
   ]
  },
  {
   "cell_type": "code",
   "execution_count": 6,
   "metadata": {},
   "outputs": [
    {
     "data": {
      "text/html": [
       "<div>\n",
       "<style scoped>\n",
       "    .dataframe tbody tr th:only-of-type {\n",
       "        vertical-align: middle;\n",
       "    }\n",
       "\n",
       "    .dataframe tbody tr th {\n",
       "        vertical-align: top;\n",
       "    }\n",
       "\n",
       "    .dataframe thead th {\n",
       "        text-align: right;\n",
       "    }\n",
       "</style>\n",
       "<table border=\"1\" class=\"dataframe\">\n",
       "  <thead>\n",
       "    <tr style=\"text-align: right;\">\n",
       "      <th></th>\n",
       "      <th>ano</th>\n",
       "      <th>estado</th>\n",
       "      <th>desempenho</th>\n",
       "    </tr>\n",
       "  </thead>\n",
       "  <tbody>\n",
       "    <tr>\n",
       "      <th>um</th>\n",
       "      <td>2014</td>\n",
       "      <td>PR</td>\n",
       "      <td>1.5</td>\n",
       "    </tr>\n",
       "    <tr>\n",
       "      <th>dois</th>\n",
       "      <td>2011</td>\n",
       "      <td>SC</td>\n",
       "      <td>10.0</td>\n",
       "    </tr>\n",
       "    <tr>\n",
       "      <th>três</th>\n",
       "      <td>2012</td>\n",
       "      <td>RS</td>\n",
       "      <td>3.6</td>\n",
       "    </tr>\n",
       "    <tr>\n",
       "      <th>quatro</th>\n",
       "      <td>2011</td>\n",
       "      <td>RJ</td>\n",
       "      <td>2.4</td>\n",
       "    </tr>\n",
       "    <tr>\n",
       "      <th>seis</th>\n",
       "      <td>2013</td>\n",
       "      <td>SP</td>\n",
       "      <td>3.2</td>\n",
       "    </tr>\n",
       "  </tbody>\n",
       "</table>\n",
       "</div>"
      ],
      "text/plain": [
       "         ano estado  desempenho\n",
       "um      2014     PR         1.5\n",
       "dois    2011     SC        10.0\n",
       "três    2012     RS         3.6\n",
       "quatro  2011     RJ         2.4\n",
       "seis    2013     SP         3.2"
      ]
     },
     "execution_count": 6,
     "metadata": {},
     "output_type": "execute_result"
    }
   ],
   "source": [
    "data.drop(['cinco'])"
   ]
  },
  {
   "cell_type": "code",
   "execution_count": 8,
   "metadata": {},
   "outputs": [],
   "source": [
    "data['dívida'] = 10"
   ]
  },
  {
   "cell_type": "code",
   "execution_count": 9,
   "metadata": {},
   "outputs": [
    {
     "data": {
      "text/html": [
       "<div>\n",
       "<style scoped>\n",
       "    .dataframe tbody tr th:only-of-type {\n",
       "        vertical-align: middle;\n",
       "    }\n",
       "\n",
       "    .dataframe tbody tr th {\n",
       "        vertical-align: top;\n",
       "    }\n",
       "\n",
       "    .dataframe thead th {\n",
       "        text-align: right;\n",
       "    }\n",
       "</style>\n",
       "<table border=\"1\" class=\"dataframe\">\n",
       "  <thead>\n",
       "    <tr style=\"text-align: right;\">\n",
       "      <th></th>\n",
       "      <th>ano</th>\n",
       "      <th>estado</th>\n",
       "      <th>desempenho</th>\n",
       "      <th>dívida</th>\n",
       "    </tr>\n",
       "  </thead>\n",
       "  <tbody>\n",
       "    <tr>\n",
       "      <th>um</th>\n",
       "      <td>2014</td>\n",
       "      <td>PR</td>\n",
       "      <td>1.5</td>\n",
       "      <td>10</td>\n",
       "    </tr>\n",
       "    <tr>\n",
       "      <th>dois</th>\n",
       "      <td>2011</td>\n",
       "      <td>SC</td>\n",
       "      <td>10.0</td>\n",
       "      <td>10</td>\n",
       "    </tr>\n",
       "    <tr>\n",
       "      <th>três</th>\n",
       "      <td>2012</td>\n",
       "      <td>RS</td>\n",
       "      <td>3.6</td>\n",
       "      <td>10</td>\n",
       "    </tr>\n",
       "    <tr>\n",
       "      <th>quatro</th>\n",
       "      <td>2011</td>\n",
       "      <td>RJ</td>\n",
       "      <td>2.4</td>\n",
       "      <td>10</td>\n",
       "    </tr>\n",
       "    <tr>\n",
       "      <th>cinco</th>\n",
       "      <td>2012</td>\n",
       "      <td>MG</td>\n",
       "      <td>2.9</td>\n",
       "      <td>10</td>\n",
       "    </tr>\n",
       "    <tr>\n",
       "      <th>seis</th>\n",
       "      <td>2013</td>\n",
       "      <td>SP</td>\n",
       "      <td>3.2</td>\n",
       "      <td>10</td>\n",
       "    </tr>\n",
       "  </tbody>\n",
       "</table>\n",
       "</div>"
      ],
      "text/plain": [
       "         ano estado  desempenho  dívida\n",
       "um      2014     PR         1.5      10\n",
       "dois    2011     SC        10.0      10\n",
       "três    2012     RS         3.6      10\n",
       "quatro  2011     RJ         2.4      10\n",
       "cinco   2012     MG         2.9      10\n",
       "seis    2013     SP         3.2      10"
      ]
     },
     "execution_count": 9,
     "metadata": {},
     "output_type": "execute_result"
    }
   ],
   "source": [
    "data"
   ]
  },
  {
   "cell_type": "code",
   "execution_count": 11,
   "metadata": {},
   "outputs": [
    {
     "data": {
      "text/plain": [
       "ano           2011\n",
       "estado          SC\n",
       "desempenho    10.0\n",
       "dívida          10\n",
       "Name: dois, dtype: object"
      ]
     },
     "execution_count": 11,
     "metadata": {},
     "output_type": "execute_result"
    }
   ],
   "source": [
    "data.loc['dois']"
   ]
  },
  {
   "cell_type": "code",
   "execution_count": null,
   "metadata": {},
   "outputs": [],
   "source": []
  }
 ],
 "metadata": {
  "kernelspec": {
   "display_name": "Python 3",
   "language": "python",
   "name": "python3"
  },
  "language_info": {
   "codemirror_mode": {
    "name": "ipython",
    "version": 3
   },
   "file_extension": ".py",
   "mimetype": "text/x-python",
   "name": "python",
   "nbconvert_exporter": "python",
   "pygments_lexer": "ipython3",
   "version": "3.11.9"
  }
 },
 "nbformat": 4,
 "nbformat_minor": 2
}
