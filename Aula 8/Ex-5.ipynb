{
 "cells": [
  {
   "cell_type": "code",
   "execution_count": null,
   "metadata": {},
   "outputs": [],
   "source": [
    "# 5 - Junção de DataFrames\n",
    "#   a) Crie dois DataFrames, um com informações de clientes (com colinas como 'ID' e 'Nome')\n",
    "#      e outro com informações de pedidos (com colunas como 'ID do cliente' e 'Total do Pedido');\n",
    "#   b) Em seguida, realize uma junção (merge) entre esses DataFrames para criar um novo DataFrame\n",
    "#      que contenha os detalhes dos pedidos, incluindo o nome do cliente que faz cada pedido."
   ]
  },
  {
   "cell_type": "code",
   "execution_count": 1,
   "metadata": {},
   "outputs": [],
   "source": [
    "import pandas as pd\n",
    "import numpy as np"
   ]
  },
  {
   "cell_type": "code",
   "execution_count": 2,
   "metadata": {},
   "outputs": [],
   "source": [
    "clientes = {'ID': [1, 2, 3],\n",
    "            'Nome': ['Luis', 'Kaiki', 'Pollyanna']}\n",
    "df_clientes = pd.DataFrame(clientes)"
   ]
  },
  {
   "cell_type": "code",
   "execution_count": 3,
   "metadata": {},
   "outputs": [
    {
     "name": "stdout",
     "output_type": "stream",
     "text": [
      "   ID       Nome\n",
      "0   1       Luis\n",
      "1   2      Kaiki\n",
      "2   3  Pollyanna\n"
     ]
    }
   ],
   "source": [
    "print(df_clientes)"
   ]
  },
  {
   "cell_type": "code",
   "execution_count": 4,
   "metadata": {},
   "outputs": [],
   "source": [
    "pedidos = {'ID do Cliente': [1, 3, 2, 1],\n",
    "            'Total do Pedido': [100.0, 150.5, 80.4, 520.6]}\n",
    "df_pedidos = pd.DataFrame(pedidos)"
   ]
  },
  {
   "cell_type": "code",
   "execution_count": 6,
   "metadata": {},
   "outputs": [
    {
     "name": "stdout",
     "output_type": "stream",
     "text": [
      "   ID do Cliente  Total do Pedido\n",
      "0              1            100.0\n",
      "1              3            150.5\n",
      "2              2             80.4\n",
      "3              1            520.6\n"
     ]
    }
   ],
   "source": [
    "print(df_pedidos)"
   ]
  },
  {
   "cell_type": "code",
   "execution_count": 8,
   "metadata": {},
   "outputs": [],
   "source": [
    "df_detalhes_pedidos = pd.merge(df_pedidos, df_clientes, left_on='ID do Cliente', right_on='ID', how='left')"
   ]
  },
  {
   "cell_type": "code",
   "execution_count": 9,
   "metadata": {},
   "outputs": [
    {
     "name": "stdout",
     "output_type": "stream",
     "text": [
      "   ID do Cliente  Total do Pedido  ID       Nome\n",
      "0              1            100.0   1       Luis\n",
      "1              3            150.5   3  Pollyanna\n",
      "2              2             80.4   2      Kaiki\n",
      "3              1            520.6   1       Luis\n"
     ]
    }
   ],
   "source": [
    "print(df_detalhes_pedidos)"
   ]
  },
  {
   "cell_type": "code",
   "execution_count": 10,
   "metadata": {},
   "outputs": [
    {
     "data": {
      "text/html": [
       "<div>\n",
       "<style scoped>\n",
       "    .dataframe tbody tr th:only-of-type {\n",
       "        vertical-align: middle;\n",
       "    }\n",
       "\n",
       "    .dataframe tbody tr th {\n",
       "        vertical-align: top;\n",
       "    }\n",
       "\n",
       "    .dataframe thead th {\n",
       "        text-align: right;\n",
       "    }\n",
       "</style>\n",
       "<table border=\"1\" class=\"dataframe\">\n",
       "  <thead>\n",
       "    <tr style=\"text-align: right;\">\n",
       "      <th></th>\n",
       "      <th>ID do Cliente</th>\n",
       "      <th>Total do Pedido</th>\n",
       "      <th>ID</th>\n",
       "      <th>Nome</th>\n",
       "    </tr>\n",
       "  </thead>\n",
       "  <tbody>\n",
       "    <tr>\n",
       "      <th>0</th>\n",
       "      <td>1</td>\n",
       "      <td>100.0</td>\n",
       "      <td>1</td>\n",
       "      <td>Luis</td>\n",
       "    </tr>\n",
       "    <tr>\n",
       "      <th>1</th>\n",
       "      <td>3</td>\n",
       "      <td>150.5</td>\n",
       "      <td>3</td>\n",
       "      <td>Pollyanna</td>\n",
       "    </tr>\n",
       "    <tr>\n",
       "      <th>2</th>\n",
       "      <td>2</td>\n",
       "      <td>80.4</td>\n",
       "      <td>2</td>\n",
       "      <td>Kaiki</td>\n",
       "    </tr>\n",
       "    <tr>\n",
       "      <th>3</th>\n",
       "      <td>1</td>\n",
       "      <td>520.6</td>\n",
       "      <td>1</td>\n",
       "      <td>Luis</td>\n",
       "    </tr>\n",
       "  </tbody>\n",
       "</table>\n",
       "</div>"
      ],
      "text/plain": [
       "   ID do Cliente  Total do Pedido  ID       Nome\n",
       "0              1            100.0   1       Luis\n",
       "1              3            150.5   3  Pollyanna\n",
       "2              2             80.4   2      Kaiki\n",
       "3              1            520.6   1       Luis"
      ]
     },
     "execution_count": 10,
     "metadata": {},
     "output_type": "execute_result"
    }
   ],
   "source": [
    "df_detalhes_pedidos"
   ]
  }
 ],
 "metadata": {
  "kernelspec": {
   "display_name": "Python 3",
   "language": "python",
   "name": "python3"
  },
  "language_info": {
   "codemirror_mode": {
    "name": "ipython",
    "version": 3
   },
   "file_extension": ".py",
   "mimetype": "text/x-python",
   "name": "python",
   "nbconvert_exporter": "python",
   "pygments_lexer": "ipython3",
   "version": "3.11.9"
  }
 },
 "nbformat": 4,
 "nbformat_minor": 2
}
